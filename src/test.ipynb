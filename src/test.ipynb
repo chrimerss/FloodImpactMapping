{
 "cells": [
  {
   "cell_type": "code",
   "execution_count": 1,
   "metadata": {},
   "outputs": [],
   "source": [
    "import os\n",
    "import glob\n",
    "import geopandas as gpd\n",
    "import rasterio\n",
    "from rasterio.mask import mask\n",
    "import pandas as pd\n",
    "import numpy as np\n",
    "from tqdm import tqdm\n",
    "from shapely.geometry import box, mapping"
   ]
  },
  {
   "cell_type": "code",
   "execution_count": 2,
   "metadata": {},
   "outputs": [],
   "source": [
    "def load_claims(claims_dir):\n",
    "    \"\"\"\n",
    "    Load and combine FEMA claims data from both auto and property claims.\n",
    "    \n",
    "    Parameters:\n",
    "    -----------\n",
    "    claims_dir : str\n",
    "        Directory containing the FEMA claims shapefiles\n",
    "        \n",
    "    Returns:\n",
    "    --------\n",
    "    GeoDataFrame\n",
    "        Combined claims data with geometry and claim information\n",
    "    \"\"\"\n",
    "    print(\"Loading FEMA claims data...\")\n",
    "    \n",
    "    # Load auto claims\n",
    "    auto_claims_path = os.path.join(claims_dir, 'FEMA_Harvey2017_AutoClaims_Aug25_Sep08.shp')\n",
    "    auto_claims = gpd.read_file(auto_claims_path).to_crs(epsg=4326)\n",
    "    \n",
    "    # Load property claims\n",
    "    property_claims_path = os.path.join(claims_dir, 'FEMA_Harvey2017_PropertyClaims_Aug25_Sep08.shp')\n",
    "    property_claims = gpd.read_file(property_claims_path).to_crs(epsg=4326)\n",
    "    \n",
    "    # Combine claims\n",
    "    all_claims = pd.concat([auto_claims, property_claims], ignore_index=True)\n",
    "    \n",
    "    print(f\"Loaded {len(auto_claims)} auto claims and {len(property_claims)} property claims\")\n",
    "    return all_claims"
   ]
  },
  {
   "cell_type": "code",
   "execution_count": null,
   "metadata": {},
   "outputs": [
    {
     "name": "stdout",
     "output_type": "stream",
     "text": [
      "Loading FEMA claims data...\n"
     ]
    }
   ],
   "source": [
    "claims_dir = '../FEMA_Harvey2017_Claims_shp'\n",
    "flood_maps_pattern = '../data/HOU00*_500yr.tif'\n",
    "\n",
    "# Find all flood maps\n",
    "flood_maps = glob.glob(flood_maps_pattern)\n",
    "\n",
    "# Load claims data\n",
    "claims_gdf = load_claims(claims_dir)"
   ]
  },
  {
   "cell_type": "code",
   "execution_count": null,
   "metadata": {},
   "outputs": [],
   "source": [
    "with rasterio.open('../data/HOU001_500yr.tif') as flood_src:\n",
    "    # Get flood map bounds\n",
    "    bounds = flood_src.bounds\n",
    "    flood_bbox = gpd.GeoDataFrame(\n",
    "        geometry=[box(bounds.left, bounds.bottom, bounds.right, bounds.top)],\n",
    "        crs=flood_src.crs\n",
    "    )\n",
    "    \n",
    "    # Convert claims to flood map CRS and crop to flood map bounds\n",
    "    claims_crs = claims_gdf.to_crs(flood_src.crs)\n",
    "    claims_cropped = gpd.overlay(claims_crs, flood_bbox, how='intersection')"
   ]
  }
 ],
 "metadata": {
  "kernelspec": {
   "display_name": "geospatial",
   "language": "python",
   "name": "python3"
  },
  "language_info": {
   "codemirror_mode": {
    "name": "ipython",
    "version": 3
   },
   "file_extension": ".py",
   "mimetype": "text/x-python",
   "name": "python",
   "nbconvert_exporter": "python",
   "pygments_lexer": "ipython3",
   "version": "3.10.13"
  }
 },
 "nbformat": 4,
 "nbformat_minor": 2
}
